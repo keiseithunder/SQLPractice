{
  "nbformat": 4,
  "nbformat_minor": 0,
  "metadata": {
    "colab": {
      "name": "SQL.ipynb",
      "provenance": [],
      "collapsed_sections": [],
      "toc_visible": true
    },
    "kernelspec": {
      "name": "python3",
      "display_name": "Python 3"
    }
  },
  "cells": [
    {
      "cell_type": "markdown",
      "metadata": {
        "id": "ixEcxDJPbGpe"
      },
      "source": [
        "# SQL (in Python)"
      ]
    },
    {
      "cell_type": "markdown",
      "metadata": {
        "id": "lwXT-73jem4T"
      },
      "source": [
        "Powerpoint แนะนำ Database อยู่ใน mycourseville"
      ]
    },
    {
      "cell_type": "markdown",
      "metadata": {
        "id": "hkA1-1vVkpSe"
      },
      "source": [
        "เพื่อความง่าย แบบฝึกหัดนี้เราจะใช้ SQL ที่มีเป็น Library ใน Python อยู่แล้วในการเรียนคำสั่ง SQL แต่เวลาทำงานจริงเรามักจะลง software database ในเครื่องแล้วเขียน Python เชื่อมต่อ database ตัวนั้น ๆ (เช่น PostgreSQL จะใช้ library psycopg2 เป็นตัวเชื่อมต่อ)"
      ]
    },
    {
      "cell_type": "markdown",
      "metadata": {
        "id": "hvVbBVWZgLUr"
      },
      "source": [
        "ให้ copy code ต่อไปนี้เพื่อรันใน colab ของตัวเองหรือใน Jupyter Notebook ของตัวเอง\n",
        "\n",
        "เป็นการสร้างตาราง 2 ตาราง จากตัวอย่างในเว็บ https://en.wikibooks.org/wiki/SQL_Exercises/The_computer_store"
      ]
    },
    {
      "cell_type": "markdown",
      "metadata": {
        "id": "ON0BPAFm0_GG"
      },
      "source": [
        "ถ้าใช้ jupyter notebook ในเครื่องตัวเอง ให้ลง sqlite3 ใน environment ของตัวเองก่อนด้วยคำสั่ง conda install -c blaze sqlite3"
      ]
    },
    {
      "cell_type": "markdown",
      "metadata": {
        "id": "8v7OkOXn1Nwn"
      },
      "source": [
        ""
      ]
    },
    {
      "cell_type": "markdown",
      "metadata": {
        "id": "Rs6cHhaY7iNp"
      },
      "source": [
        "## 1.   สร้าง Database\n",
        "\n"
      ]
    },
    {
      "cell_type": "code",
      "metadata": {
        "id": "dfyUd1fUbFm7",
        "outputId": "aac236ee-40c8-4625-afd9-0a2bd9bdcce7",
        "colab": {
          "base_uri": "https://localhost:8080/",
          "height": 51
        }
      },
      "source": [
        "# CREATING THE TABLE\n",
        "import sqlite3\n",
        "\n",
        "conn = sqlite3.connect('sqltest.db')\n",
        "print(\"Opened database successfully\");\n",
        "\n",
        "conn.execute('''\n",
        "CREATE TABLE IF NOT EXISTS Manufacturers (\n",
        "\tCode INTEGER PRIMARY KEY NOT NULL,\n",
        "\tName CHAR(50) NOT NULL \n",
        ");''')\n",
        "\n",
        "conn.commit()\n",
        "conn.execute('''\n",
        "CREATE TABLE Products (\n",
        "\tCode INTEGER PRIMARY KEY NOT NULL,\n",
        "\tName CHAR(50) NOT NULL ,\n",
        "\tPrice REAL NOT NULL ,\n",
        "\tManufacturer INTEGER NOT NULL \n",
        "\t\tCONSTRAINT fk_Manufacturers_Code REFERENCES Manufacturers(Code));''')\n",
        "\n",
        "conn.commit()\n",
        "\n",
        "print(\"Table created successfully\");"
      ],
      "execution_count": null,
      "outputs": [
        {
          "output_type": "stream",
          "text": [
            "Opened database successfully\n",
            "Table created successfully\n"
          ],
          "name": "stdout"
        }
      ]
    },
    {
      "cell_type": "markdown",
      "metadata": {
        "id": "JQC_sWjHEsDg"
      },
      "source": [
        "keyword ที่ควรทราบ\n",
        "* PRIMARY KEY คือ คอลัมน์นั้นห้ามซ้ำ\n",
        "* NOT NULL คือ ห้ามว่าง\n",
        "* CONSTRAINT foreign_key_name REFERENCES main_table(key_column) คือสร้าง foreign key โยงสองตารางเข้าด้วยกัน ซึ่งในที่นี้คือให้คอลัมน์ Manufacturer โยงกับ code ในตาราง Manufacturer ผลในการกำหนด foreign key คือ จะไม่อนุญาตให้ทำการเพิ่ม code อื่น ๆ ที่ไม่ได้อยู่ในตาราง Manufacturer\n",
        "* commit คือการยืนยันคำสั่งก่อนหน้า เราจะสามารถ roll back กลับไปจุด commit ล่าสุดได้ ใช้กับคำสั่ง SQL ประเภท DML "
      ]
    },
    {
      "cell_type": "code",
      "metadata": {
        "id": "wunm5V1bfdPL",
        "outputId": "a8cf4757-5249-4cbd-8555-72f852282dc2",
        "colab": {
          "base_uri": "https://localhost:8080/",
          "height": 34
        }
      },
      "source": [
        "# INSERT VALUES\n",
        "conn.execute(\"INSERT INTO Manufacturers(Code,Name) VALUES(1,'Sony');\")\n",
        "conn.execute(\"INSERT INTO Manufacturers(Code,Name) VALUES(2,'Creative Labs');\")\n",
        "conn.execute(\"INSERT INTO Manufacturers(Code,Name) VALUES(3,'Hewlett-Packard');\")\n",
        "conn.execute(\"INSERT INTO Manufacturers(Code,Name) VALUES(4,'Iomega');\")\n",
        "conn.execute(\"INSERT INTO Manufacturers(Code,Name) VALUES(5,'Fujitsu');\")\n",
        "conn.execute(\"INSERT INTO Manufacturers(Code,Name) VALUES(6,'Winchester');\")\n",
        "\n",
        "conn.execute(\"INSERT INTO Products(Code,Name,Price,Manufacturer) VALUES(1,'Hard drive',240,5);\")\n",
        "conn.execute(\"INSERT INTO Products(Code,Name,Price,Manufacturer) VALUES(2,'Memory',120,6);\")\n",
        "conn.execute(\"INSERT INTO Products(Code,Name,Price,Manufacturer) VALUES(3,'ZIP drive',150,4);\")\n",
        "conn.execute(\"INSERT INTO Products(Code,Name,Price,Manufacturer) VALUES(4,'Floppy disk',5,6);\")\n",
        "conn.execute(\"INSERT INTO Products(Code,Name,Price,Manufacturer) VALUES(5,'Monitor',240,1);\")\n",
        "conn.execute(\"INSERT INTO Products(Code,Name,Price,Manufacturer) VALUES(6,'DVD drive',180,2);\")\n",
        "conn.execute(\"INSERT INTO Products(Code,Name,Price,Manufacturer) VALUES(7,'CD drive',90,2);\")\n",
        "conn.execute(\"INSERT INTO Products(Code,Name,Price,Manufacturer) VALUES(8,'Printer',270,3);\")\n",
        "conn.execute(\"INSERT INTO Products(Code,Name,Price,Manufacturer) VALUES(9,'Toner cartridge',66,3);\")\n",
        "conn.execute(\"INSERT INTO Products(Code,Name,Price,Manufacturer) VALUES(10,'DVD burner',180,2);\")"
      ],
      "execution_count": null,
      "outputs": [
        {
          "output_type": "execute_result",
          "data": {
            "text/plain": [
              "<sqlite3.Cursor at 0x7f0a2bc09ce0>"
            ]
          },
          "metadata": {
            "tags": []
          },
          "execution_count": 2
        }
      ]
    },
    {
      "cell_type": "markdown",
      "metadata": {
        "id": "CX1_NAx87uIR"
      },
      "source": [
        "## 2.   ทดลอง query"
      ]
    },
    {
      "cell_type": "markdown",
      "metadata": {
        "id": "zL6wmDzE71V0"
      },
      "source": [
        "เลือกทุกแถวทุกคอลัมน์มาจากตาราง\n",
        "\n",
        "เราสามารถเลือกทุกคอลัมน์ได้โดยใช้เครื่องหมาย *"
      ]
    },
    {
      "cell_type": "code",
      "metadata": {
        "id": "8GliaHHeiJON",
        "outputId": "bc46bd59-d450-485c-bd90-586783ad1987",
        "colab": {
          "base_uri": "https://localhost:8080/",
          "height": 119
        }
      },
      "source": [
        "for row in conn.execute(\"SELECT * FROM manufacturers\"):\n",
        "  print(row)"
      ],
      "execution_count": null,
      "outputs": [
        {
          "output_type": "stream",
          "text": [
            "(1, 'Sony')\n",
            "(2, 'Creative Labs')\n",
            "(3, 'Hewlett-Packard')\n",
            "(4, 'Iomega')\n",
            "(5, 'Fujitsu')\n",
            "(6, 'Winchester')\n"
          ],
          "name": "stdout"
        }
      ]
    },
    {
      "cell_type": "code",
      "metadata": {
        "id": "C23oVqPEmLja",
        "outputId": "8a614422-0c6e-4488-8344-7b2b10adee0f",
        "colab": {
          "base_uri": "https://localhost:8080/",
          "height": 187
        }
      },
      "source": [
        "for row in conn.execute(\"select * from Products\"):\n",
        "  print(row)"
      ],
      "execution_count": null,
      "outputs": [
        {
          "output_type": "stream",
          "text": [
            "(1, 'Hard drive', 240.0, 5)\n",
            "(2, 'Memory', 120.0, 6)\n",
            "(3, 'ZIP drive', 150.0, 4)\n",
            "(4, 'Floppy disk', 5.0, 6)\n",
            "(5, 'Monitor', 240.0, 1)\n",
            "(6, 'DVD drive', 180.0, 2)\n",
            "(7, 'CD drive', 90.0, 2)\n",
            "(8, 'Printer', 270.0, 3)\n",
            "(9, 'Toner cartridge', 66.0, 3)\n",
            "(10, 'DVD burner', 180.0, 2)\n"
          ],
          "name": "stdout"
        }
      ]
    },
    {
      "cell_type": "markdown",
      "metadata": {
        "id": "C7tR_rP_KtQ0"
      },
      "source": [
        "หรือจะใช้คำสั่ง fetchall() ก็ได้"
      ]
    },
    {
      "cell_type": "code",
      "metadata": {
        "id": "OY1KfRtHKl0i",
        "outputId": "89605a83-cd80-4494-8fbd-4ad6dc14ca99",
        "colab": {
          "base_uri": "https://localhost:8080/",
          "height": 187
        }
      },
      "source": [
        "conn.execute(\"SELECT * FROM Products\").fetchall()"
      ],
      "execution_count": null,
      "outputs": [
        {
          "output_type": "execute_result",
          "data": {
            "text/plain": [
              "[(1, 'Hard drive', 240.0, 5),\n",
              " (2, 'Memory', 120.0, 6),\n",
              " (3, 'ZIP drive', 150.0, 4),\n",
              " (4, 'Floppy disk', 5.0, 6),\n",
              " (5, 'Monitor', 240.0, 1),\n",
              " (6, 'DVD drive', 180.0, 2),\n",
              " (7, 'CD drive', 90.0, 2),\n",
              " (8, 'Printer', 270.0, 3),\n",
              " (9, 'Toner cartridge', 66.0, 3),\n",
              " (10, 'DVD burner', 180.0, 2)]"
            ]
          },
          "metadata": {
            "tags": []
          },
          "execution_count": 5
        }
      ]
    },
    {
      "cell_type": "markdown",
      "metadata": {
        "id": "-H6Ii1ebLlB6"
      },
      "source": [
        "เลือกแค่บางคอลัมน์"
      ]
    },
    {
      "cell_type": "code",
      "metadata": {
        "id": "lWZE65cKLnLi",
        "outputId": "1b5d6cfa-e4ca-411e-9140-d0ceb56f62bf",
        "colab": {
          "base_uri": "https://localhost:8080/",
          "height": 187
        }
      },
      "source": [
        "conn.execute(\"select name,price from products\").fetchall()"
      ],
      "execution_count": null,
      "outputs": [
        {
          "output_type": "execute_result",
          "data": {
            "text/plain": [
              "[('Hard drive', 240.0),\n",
              " ('Memory', 120.0),\n",
              " ('ZIP drive', 150.0),\n",
              " ('Floppy disk', 5.0),\n",
              " ('Monitor', 240.0),\n",
              " ('DVD drive', 180.0),\n",
              " ('CD drive', 90.0),\n",
              " ('Printer', 270.0),\n",
              " ('Toner cartridge', 66.0),\n",
              " ('DVD burner', 180.0)]"
            ]
          },
          "metadata": {
            "tags": []
          },
          "execution_count": 6
        }
      ]
    },
    {
      "cell_type": "markdown",
      "metadata": {
        "id": "_grLxZraL0F3"
      },
      "source": [
        "ใส่เงื่อนไขเลือกแถว ใช้คำสั่ง where"
      ]
    },
    {
      "cell_type": "code",
      "metadata": {
        "id": "zk90R55IL3qL",
        "outputId": "bd5d974c-6136-4564-a53b-fa7a1cd925fd",
        "colab": {
          "base_uri": "https://localhost:8080/",
          "height": 34
        }
      },
      "source": [
        "conn.execute(\"select name,price from products where name='Hard drive'\").fetchall()"
      ],
      "execution_count": null,
      "outputs": [
        {
          "output_type": "execute_result",
          "data": {
            "text/plain": [
              "[('Hard drive', 240.0)]"
            ]
          },
          "metadata": {
            "tags": []
          },
          "execution_count": 7
        }
      ]
    },
    {
      "cell_type": "code",
      "metadata": {
        "id": "6CvUSwiOL-bY",
        "outputId": "7fcde47f-a126-48b3-cca4-7fa725740ea8",
        "colab": {
          "base_uri": "https://localhost:8080/",
          "height": 34
        }
      },
      "source": [
        "conn.execute(\"select * from products where name like 'Z%'\").fetchall()"
      ],
      "execution_count": null,
      "outputs": [
        {
          "output_type": "execute_result",
          "data": {
            "text/plain": [
              "[(3, 'ZIP drive', 150.0, 4)]"
            ]
          },
          "metadata": {
            "tags": []
          },
          "execution_count": 8
        }
      ]
    },
    {
      "cell_type": "code",
      "metadata": {
        "id": "EkLQuAv0MZME",
        "outputId": "7614192b-92ca-49b3-cc9e-4fb1ee0feb3d",
        "colab": {
          "base_uri": "https://localhost:8080/",
          "height": 34
        }
      },
      "source": [
        "conn.execute(\"select name,price from products where name like '_I%'\").fetchall()"
      ],
      "execution_count": null,
      "outputs": [
        {
          "output_type": "execute_result",
          "data": {
            "text/plain": [
              "[('ZIP drive', 150.0)]"
            ]
          },
          "metadata": {
            "tags": []
          },
          "execution_count": 9
        }
      ]
    },
    {
      "cell_type": "code",
      "metadata": {
        "id": "vx_e1RRfMl0T",
        "outputId": "a293230a-fbae-4bc1-fed5-b2fa4bdd5d54",
        "colab": {
          "base_uri": "https://localhost:8080/",
          "height": 34
        }
      },
      "source": [
        "conn.execute(\"select name,price from products where name is NULL\").fetchall()"
      ],
      "execution_count": null,
      "outputs": [
        {
          "output_type": "execute_result",
          "data": {
            "text/plain": [
              "[]"
            ]
          },
          "metadata": {
            "tags": []
          },
          "execution_count": 10
        }
      ]
    },
    {
      "cell_type": "markdown",
      "metadata": {
        "id": "RgFlCnrFMxfU"
      },
      "source": [
        "เลือกสองตารางมาเชื่อมกัน"
      ]
    },
    {
      "cell_type": "code",
      "metadata": {
        "id": "oBnH8fyY6pRW",
        "outputId": "de308c6c-2ca2-45e5-8fe6-80afecf4fd00",
        "colab": {
          "base_uri": "https://localhost:8080/",
          "height": 187
        }
      },
      "source": [
        "conn.execute(\"select * from products\").fetchall()"
      ],
      "execution_count": null,
      "outputs": [
        {
          "output_type": "execute_result",
          "data": {
            "text/plain": [
              "[(1, 'Hard drive', 240.0, 5),\n",
              " (2, 'Memory', 120.0, 6),\n",
              " (3, 'ZIP drive', 150.0, 4),\n",
              " (4, 'Floppy disk', 5.0, 6),\n",
              " (5, 'Monitor', 240.0, 1),\n",
              " (6, 'DVD drive', 180.0, 2),\n",
              " (7, 'CD drive', 90.0, 2),\n",
              " (8, 'Printer', 270.0, 3),\n",
              " (9, 'Toner cartridge', 66.0, 3),\n",
              " (10, 'DVD burner', 180.0, 2)]"
            ]
          },
          "metadata": {
            "tags": []
          },
          "execution_count": 11
        }
      ]
    },
    {
      "cell_type": "code",
      "metadata": {
        "id": "PRfRPK4c6vfI",
        "outputId": "bf1f6968-091c-4f9e-e61c-acf6e8098d3d",
        "colab": {
          "base_uri": "https://localhost:8080/",
          "height": 119
        }
      },
      "source": [
        "conn.execute(\"select * from manufacturers\").fetchall()"
      ],
      "execution_count": null,
      "outputs": [
        {
          "output_type": "execute_result",
          "data": {
            "text/plain": [
              "[(1, 'Sony'),\n",
              " (2, 'Creative Labs'),\n",
              " (3, 'Hewlett-Packard'),\n",
              " (4, 'Iomega'),\n",
              " (5, 'Fujitsu'),\n",
              " (6, 'Winchester')]"
            ]
          },
          "metadata": {
            "tags": []
          },
          "execution_count": 12
        }
      ]
    },
    {
      "cell_type": "code",
      "metadata": {
        "id": "sv3pgM1pMzXD",
        "outputId": "fca90d05-0018-40cb-b2ff-370c117e185c",
        "colab": {
          "base_uri": "https://localhost:8080/",
          "height": 187
        }
      },
      "source": [
        "conn.execute(\"select p.name,p.price,p.manufacturer,m.name from products p, manufacturers m where p.manufacturer=m.code\").fetchall()"
      ],
      "execution_count": null,
      "outputs": [
        {
          "output_type": "execute_result",
          "data": {
            "text/plain": [
              "[('Hard drive', 240.0, 5, 'Fujitsu'),\n",
              " ('Memory', 120.0, 6, 'Winchester'),\n",
              " ('ZIP drive', 150.0, 4, 'Iomega'),\n",
              " ('Floppy disk', 5.0, 6, 'Winchester'),\n",
              " ('Monitor', 240.0, 1, 'Sony'),\n",
              " ('DVD drive', 180.0, 2, 'Creative Labs'),\n",
              " ('CD drive', 90.0, 2, 'Creative Labs'),\n",
              " ('Printer', 270.0, 3, 'Hewlett-Packard'),\n",
              " ('Toner cartridge', 66.0, 3, 'Hewlett-Packard'),\n",
              " ('DVD burner', 180.0, 2, 'Creative Labs')]"
            ]
          },
          "metadata": {
            "tags": []
          },
          "execution_count": 13
        }
      ]
    },
    {
      "cell_type": "markdown",
      "metadata": {
        "id": "gzl6x67jqZar"
      },
      "source": [
        "ดูชื่อ column"
      ]
    },
    {
      "cell_type": "code",
      "metadata": {
        "id": "sO8LyF5TqbH1",
        "outputId": "e871c477-da5e-443c-ec92-6fcf1e13c01c",
        "colab": {
          "base_uri": "https://localhost:8080/",
          "height": 85
        }
      },
      "source": [
        "for row in conn.execute(\"PRAGMA table_info(Products)\"):\n",
        "  print(row)"
      ],
      "execution_count": null,
      "outputs": [
        {
          "output_type": "stream",
          "text": [
            "(0, 'Code', 'INTEGER', 1, None, 1)\n",
            "(1, 'Name', 'CHAR(50)', 1, None, 0)\n",
            "(2, 'Price', 'REAL', 1, None, 0)\n",
            "(3, 'Manufacturer', 'INTEGER', 1, None, 0)\n"
          ],
          "name": "stdout"
        }
      ]
    },
    {
      "cell_type": "code",
      "metadata": {
        "id": "OScjEPMwq-54",
        "outputId": "b92c18c0-9b92-4104-f277-0acfe31af480",
        "colab": {
          "base_uri": "https://localhost:8080/",
          "height": 51
        }
      },
      "source": [
        "for row in conn.execute(\"PRAGMA table_info(Manufacturers)\"):\n",
        "  print(row)"
      ],
      "execution_count": null,
      "outputs": [
        {
          "output_type": "stream",
          "text": [
            "(0, 'Code', 'INTEGER', 1, None, 1)\n",
            "(1, 'Name', 'CHAR(50)', 1, None, 0)\n"
          ],
          "name": "stdout"
        }
      ]
    },
    {
      "cell_type": "markdown",
      "metadata": {
        "id": "udlnRnTJpcYO"
      },
      "source": [
        "เราสามารถสร้างตัวแปรขึ้นมา แล้วนำไปใส่ในคำสั่ง SQL ได้ ตามตัวอย่าง\n",
        "การสร้างเป็นตัวแปรทำให้เราทำให้เราสามารถสร้างระบบ interactive ได้"
      ]
    },
    {
      "cell_type": "code",
      "metadata": {
        "id": "uLL7XIe6pdNq",
        "outputId": "09e94985-58be-4af6-f0ae-78003d5488ca",
        "colab": {
          "base_uri": "https://localhost:8080/",
          "height": 34
        }
      },
      "source": [
        "n=('ZIP drive',)\n",
        "for row in conn.execute(\"select * from Products where Name=?\",n):\n",
        "  print(row)"
      ],
      "execution_count": null,
      "outputs": [
        {
          "output_type": "stream",
          "text": [
            "(3, 'ZIP drive', 150.0, 4)\n"
          ],
          "name": "stdout"
        }
      ]
    },
    {
      "cell_type": "code",
      "metadata": {
        "id": "j3odrA-R7qjg",
        "outputId": "518ab2da-9503-4e5d-f9bf-d6881062a99c",
        "colab": {
          "base_uri": "https://localhost:8080/",
          "height": 34
        }
      },
      "source": [
        "type(n)"
      ],
      "execution_count": null,
      "outputs": [
        {
          "output_type": "execute_result",
          "data": {
            "text/plain": [
              "tuple"
            ]
          },
          "metadata": {
            "tags": []
          },
          "execution_count": 17
        }
      ]
    },
    {
      "cell_type": "markdown",
      "metadata": {
        "id": "yaGg_CSvDgnk"
      },
      "source": [
        "ถ้าเราจะมีหลาย ๆ ตัวแปร ก็ต้องใช้คำสั่ง executemany"
      ]
    },
    {
      "cell_type": "code",
      "metadata": {
        "id": "WpxqyEGnDjgj",
        "outputId": "73c0e405-e0ff-4449-e628-edd3952e0006",
        "colab": {
          "base_uri": "https://localhost:8080/",
          "height": 34
        }
      },
      "source": [
        "manus = [(7, 'Sandisk'),\n",
        "         (8, 'Kingston')]\n",
        "conn.executemany('INSERT INTO Manufacturers VALUES (?,?)', manus)"
      ],
      "execution_count": null,
      "outputs": [
        {
          "output_type": "execute_result",
          "data": {
            "text/plain": [
              "<sqlite3.Cursor at 0x7f0a2b3693b0>"
            ]
          },
          "metadata": {
            "tags": []
          },
          "execution_count": 18
        }
      ]
    },
    {
      "cell_type": "code",
      "metadata": {
        "id": "I8uag6Dv8TsN",
        "outputId": "12a96643-670a-4257-dcd6-54a42f82009b",
        "colab": {
          "base_uri": "https://localhost:8080/",
          "height": 34
        }
      },
      "source": [
        "conn.execute(\"UPDATE Manufacturers SET name='KKKK' where code=8\")"
      ],
      "execution_count": null,
      "outputs": [
        {
          "output_type": "execute_result",
          "data": {
            "text/plain": [
              "<sqlite3.Cursor at 0x7f0a2b369420>"
            ]
          },
          "metadata": {
            "tags": []
          },
          "execution_count": 19
        }
      ]
    },
    {
      "cell_type": "code",
      "metadata": {
        "id": "EtA41kBC9Tol",
        "outputId": "b73c4145-7529-4553-dd18-897f8b990a1c",
        "colab": {
          "base_uri": "https://localhost:8080/",
          "height": 34
        }
      },
      "source": [
        "conn.execute(\"DELETE FROM Manufacturers WHERE code=8\")"
      ],
      "execution_count": null,
      "outputs": [
        {
          "output_type": "execute_result",
          "data": {
            "text/plain": [
              "<sqlite3.Cursor at 0x7f0a2b369490>"
            ]
          },
          "metadata": {
            "tags": []
          },
          "execution_count": 20
        }
      ]
    },
    {
      "cell_type": "code",
      "metadata": {
        "id": "dmFWXH3b9B6w",
        "outputId": "0a81138d-dd97-4504-f25b-dc895231e698",
        "colab": {
          "base_uri": "https://localhost:8080/",
          "height": 136
        }
      },
      "source": [
        "conn.execute(\"select * from Manufacturers\").fetchall()"
      ],
      "execution_count": null,
      "outputs": [
        {
          "output_type": "execute_result",
          "data": {
            "text/plain": [
              "[(1, 'Sony'),\n",
              " (2, 'Creative Labs'),\n",
              " (3, 'Hewlett-Packard'),\n",
              " (4, 'Iomega'),\n",
              " (5, 'Fujitsu'),\n",
              " (6, 'Winchester'),\n",
              " (7, 'Sandisk')]"
            ]
          },
          "metadata": {
            "tags": []
          },
          "execution_count": 21
        }
      ]
    },
    {
      "cell_type": "code",
      "metadata": {
        "id": "5VzqogWU8FIz",
        "outputId": "d4f9c613-3d73-4c0d-8c1a-6442e7aa31de",
        "colab": {
          "base_uri": "https://localhost:8080/",
          "height": 34
        }
      },
      "source": [
        "type(manus)"
      ],
      "execution_count": null,
      "outputs": [
        {
          "output_type": "execute_result",
          "data": {
            "text/plain": [
              "list"
            ]
          },
          "metadata": {
            "tags": []
          },
          "execution_count": 22
        }
      ]
    },
    {
      "cell_type": "markdown",
      "metadata": {
        "id": "M_6NvpgjDIVi"
      },
      "source": [
        "## 3. การใช้งานกับ pandas"
      ]
    },
    {
      "cell_type": "markdown",
      "metadata": {
        "id": "U3UU0La9mwDr"
      },
      "source": [
        "นำข้อมูลที่ได้จากการ query ไปใส่ไว้ใน dataframe ของ pandas"
      ]
    },
    {
      "cell_type": "code",
      "metadata": {
        "id": "CQ4hEbd6mlra"
      },
      "source": [
        "import pandas as pd"
      ],
      "execution_count": null,
      "outputs": []
    },
    {
      "cell_type": "code",
      "metadata": {
        "id": "hhUd_vxrmRn2"
      },
      "source": [
        "df = pd.read_sql_query(\"SELECT * from Products\", conn)"
      ],
      "execution_count": null,
      "outputs": []
    },
    {
      "cell_type": "markdown",
      "metadata": {
        "id": "cSyOwEXOpTEK"
      },
      "source": [
        "เอาผลใส่ใน dataframe ทำให้พิมพ์ออกมาสวยกว่า"
      ]
    },
    {
      "cell_type": "code",
      "metadata": {
        "id": "wiM_2yF6m8ON",
        "outputId": "a5f97d49-3eef-46f6-d143-9f2b393a6ac4",
        "colab": {
          "base_uri": "https://localhost:8080/",
          "height": 359
        }
      },
      "source": [
        "df"
      ],
      "execution_count": null,
      "outputs": [
        {
          "output_type": "execute_result",
          "data": {
            "text/html": [
              "<div>\n",
              "<style scoped>\n",
              "    .dataframe tbody tr th:only-of-type {\n",
              "        vertical-align: middle;\n",
              "    }\n",
              "\n",
              "    .dataframe tbody tr th {\n",
              "        vertical-align: top;\n",
              "    }\n",
              "\n",
              "    .dataframe thead th {\n",
              "        text-align: right;\n",
              "    }\n",
              "</style>\n",
              "<table border=\"1\" class=\"dataframe\">\n",
              "  <thead>\n",
              "    <tr style=\"text-align: right;\">\n",
              "      <th></th>\n",
              "      <th>Code</th>\n",
              "      <th>Name</th>\n",
              "      <th>Price</th>\n",
              "      <th>Manufacturer</th>\n",
              "    </tr>\n",
              "  </thead>\n",
              "  <tbody>\n",
              "    <tr>\n",
              "      <th>0</th>\n",
              "      <td>1</td>\n",
              "      <td>Hard drive</td>\n",
              "      <td>240.0</td>\n",
              "      <td>5</td>\n",
              "    </tr>\n",
              "    <tr>\n",
              "      <th>1</th>\n",
              "      <td>2</td>\n",
              "      <td>Memory</td>\n",
              "      <td>120.0</td>\n",
              "      <td>6</td>\n",
              "    </tr>\n",
              "    <tr>\n",
              "      <th>2</th>\n",
              "      <td>3</td>\n",
              "      <td>ZIP drive</td>\n",
              "      <td>150.0</td>\n",
              "      <td>4</td>\n",
              "    </tr>\n",
              "    <tr>\n",
              "      <th>3</th>\n",
              "      <td>4</td>\n",
              "      <td>Floppy disk</td>\n",
              "      <td>5.0</td>\n",
              "      <td>6</td>\n",
              "    </tr>\n",
              "    <tr>\n",
              "      <th>4</th>\n",
              "      <td>5</td>\n",
              "      <td>Monitor</td>\n",
              "      <td>240.0</td>\n",
              "      <td>1</td>\n",
              "    </tr>\n",
              "    <tr>\n",
              "      <th>5</th>\n",
              "      <td>6</td>\n",
              "      <td>DVD drive</td>\n",
              "      <td>180.0</td>\n",
              "      <td>2</td>\n",
              "    </tr>\n",
              "    <tr>\n",
              "      <th>6</th>\n",
              "      <td>7</td>\n",
              "      <td>CD drive</td>\n",
              "      <td>90.0</td>\n",
              "      <td>2</td>\n",
              "    </tr>\n",
              "    <tr>\n",
              "      <th>7</th>\n",
              "      <td>8</td>\n",
              "      <td>Printer</td>\n",
              "      <td>270.0</td>\n",
              "      <td>3</td>\n",
              "    </tr>\n",
              "    <tr>\n",
              "      <th>8</th>\n",
              "      <td>9</td>\n",
              "      <td>Toner cartridge</td>\n",
              "      <td>66.0</td>\n",
              "      <td>3</td>\n",
              "    </tr>\n",
              "    <tr>\n",
              "      <th>9</th>\n",
              "      <td>10</td>\n",
              "      <td>DVD burner</td>\n",
              "      <td>180.0</td>\n",
              "      <td>2</td>\n",
              "    </tr>\n",
              "  </tbody>\n",
              "</table>\n",
              "</div>"
            ],
            "text/plain": [
              "   Code             Name  Price  Manufacturer\n",
              "0     1       Hard drive  240.0             5\n",
              "1     2           Memory  120.0             6\n",
              "2     3        ZIP drive  150.0             4\n",
              "3     4      Floppy disk    5.0             6\n",
              "4     5          Monitor  240.0             1\n",
              "5     6        DVD drive  180.0             2\n",
              "6     7         CD drive   90.0             2\n",
              "7     8          Printer  270.0             3\n",
              "8     9  Toner cartridge   66.0             3\n",
              "9    10       DVD burner  180.0             2"
            ]
          },
          "metadata": {
            "tags": []
          },
          "execution_count": 25
        }
      ]
    },
    {
      "cell_type": "markdown",
      "metadata": {
        "id": "lCCWFw-MILOF"
      },
      "source": [
        "อ่านเพิ่มที่นี่\n",
        "https://datacarpentry.org/python-ecology-lesson/09-working-with-sql/index.html"
      ]
    },
    {
      "cell_type": "markdown",
      "metadata": {
        "id": "i5-LEBcAJe2Z"
      },
      "source": [
        "ถ้าจะทำย้อนกลับคือ เอาข้อมูลใน dataframe ไปใส่ใน SQLite ก็ให้ทำตามนี้"
      ]
    },
    {
      "cell_type": "code",
      "metadata": {
        "id": "jhmNuQrkJppP"
      },
      "source": [
        "#ตัวอย่างจาก https://datatofish.com/create-pandas-dataframe/\n",
        "cars = {'Brand': ['Honda Civic','Toyota Corolla','Ford Focus','Audi A4'],\n",
        "        'Price': [22000,25000,27000,35000]\n",
        "        }\n",
        "\n",
        "df = pd.DataFrame(cars, columns = ['Brand', 'Price'])"
      ],
      "execution_count": null,
      "outputs": []
    },
    {
      "cell_type": "code",
      "metadata": {
        "id": "vdjjpjxRJ_i8"
      },
      "source": [
        "df.to_sql('cars', con=conn, if_exists='append')"
      ],
      "execution_count": null,
      "outputs": []
    },
    {
      "cell_type": "code",
      "metadata": {
        "id": "pTnRfMvEK7kq",
        "outputId": "c03961c8-3db2-4bd1-b4a3-7572ad9c6dd2",
        "colab": {
          "base_uri": "https://localhost:8080/",
          "height": 85
        }
      },
      "source": [
        "conn.execute(\"select * from cars\").fetchall()"
      ],
      "execution_count": null,
      "outputs": [
        {
          "output_type": "execute_result",
          "data": {
            "text/plain": [
              "[(0, 'Honda Civic', 22000),\n",
              " (1, 'Toyota Corolla', 25000),\n",
              " (2, 'Ford Focus', 27000),\n",
              " (3, 'Audi A4', 35000)]"
            ]
          },
          "metadata": {
            "tags": []
          },
          "execution_count": 28
        }
      ]
    },
    {
      "cell_type": "markdown",
      "metadata": {
        "id": "SPJB5aW5Gizg"
      },
      "source": [
        "## 4. ประเภทของคำสั่ง SQL"
      ]
    },
    {
      "cell_type": "markdown",
      "metadata": {
        "id": "FqN3BSprGr-K"
      },
      "source": [
        "*   DDL(Data Definition Language) คำสั่งจัดการโครงสร้างตาราง เช่น เพิ่ม/ลด คอลัมน์ เปลี่ยนชื่อตาราง\n",
        "*   DQL (Data Query Language) คำสั่ง select\n",
        "*   DML(Data Manipulation Language) คำสั่งเพิ่ม ลด แก้ไข ข้อมูลในตาราง\n",
        "*   DCL(Data Control Language) คำสั่งให้สิทธิ์หรือถอนสิทธิผู้ใช้งาน\n",
        "*   TCL(transaction Control Language) คำสังจัดการ transaction เช่นการ commit/rollback \n",
        "\n"
      ]
    },
    {
      "cell_type": "markdown",
      "metadata": {
        "id": "jXdrVmQNGmkS"
      },
      "source": [
        "https://www.geeksforgeeks.org/sql-ddl-dql-dml-dcl-tcl-commands/"
      ]
    },
    {
      "cell_type": "markdown",
      "metadata": {
        "id": "AnQNMqRee1mu"
      },
      "source": [
        "# SQL Practice 20 question"
      ]
    },
    {
      "cell_type": "code",
      "metadata": {
        "id": "9BZR-CSKT9b0",
        "outputId": "0bdac2c4-f99a-4d4e-e510-af93a99a27f9",
        "colab": {
          "base_uri": "https://localhost:8080/",
          "height": 187
        }
      },
      "source": [
        "conn.execute(\"select name from products\").fetchall()"
      ],
      "execution_count": null,
      "outputs": [
        {
          "output_type": "execute_result",
          "data": {
            "text/plain": [
              "[('Hard drive',),\n",
              " ('Memory',),\n",
              " ('ZIP drive',),\n",
              " ('Floppy disk',),\n",
              " ('Monitor',),\n",
              " ('DVD drive',),\n",
              " ('CD drive',),\n",
              " ('Printer',),\n",
              " ('Toner cartridge',),\n",
              " ('DVD burner',)]"
            ]
          },
          "metadata": {
            "tags": []
          },
          "execution_count": 29
        }
      ]
    },
    {
      "cell_type": "code",
      "metadata": {
        "id": "tCZ3FJBeUiDX",
        "outputId": "c9adfd8e-e9c4-421f-ac70-9b5036ab3ef0",
        "colab": {
          "base_uri": "https://localhost:8080/",
          "height": 187
        }
      },
      "source": [
        "conn.execute(\"select name, price from products\").fetchall()"
      ],
      "execution_count": null,
      "outputs": [
        {
          "output_type": "execute_result",
          "data": {
            "text/plain": [
              "[('Hard drive', 240.0),\n",
              " ('Memory', 120.0),\n",
              " ('ZIP drive', 150.0),\n",
              " ('Floppy disk', 5.0),\n",
              " ('Monitor', 240.0),\n",
              " ('DVD drive', 180.0),\n",
              " ('CD drive', 90.0),\n",
              " ('Printer', 270.0),\n",
              " ('Toner cartridge', 66.0),\n",
              " ('DVD burner', 180.0)]"
            ]
          },
          "metadata": {
            "tags": []
          },
          "execution_count": 30
        }
      ]
    },
    {
      "cell_type": "code",
      "metadata": {
        "id": "wJg5jtVuU5-F",
        "outputId": "bd2aefbc-dfa0-4f1b-8934-e272a67633cd",
        "colab": {
          "base_uri": "https://localhost:8080/"
        }
      },
      "source": [
        "conn.execute(\"select name from products where price <= 200\").fetchall()"
      ],
      "execution_count": null,
      "outputs": [
        {
          "output_type": "execute_result",
          "data": {
            "text/plain": [
              "[('Memory',),\n",
              " ('ZIP drive',),\n",
              " ('Floppy disk',),\n",
              " ('DVD drive',),\n",
              " ('CD drive',),\n",
              " ('Toner cartridge',),\n",
              " ('DVD burner',)]"
            ]
          },
          "metadata": {
            "tags": []
          },
          "execution_count": 31
        }
      ]
    },
    {
      "cell_type": "code",
      "metadata": {
        "id": "O0OkdH8OVFoU",
        "outputId": "5663bce5-2b3e-41ce-c1f0-7e535a802029",
        "colab": {
          "base_uri": "https://localhost:8080/"
        }
      },
      "source": [
        "conn.execute(\"select name from products where price between 60 and 120\").fetchall()"
      ],
      "execution_count": null,
      "outputs": [
        {
          "output_type": "execute_result",
          "data": {
            "text/plain": [
              "[('Memory',), ('CD drive',), ('Toner cartridge',)]"
            ]
          },
          "metadata": {
            "tags": []
          },
          "execution_count": 32
        }
      ]
    },
    {
      "cell_type": "code",
      "metadata": {
        "id": "kl9QkgYuV5dc",
        "outputId": "277cbe44-f3e4-4185-a143-6bc1cc9ce296",
        "colab": {
          "base_uri": "https://localhost:8080/"
        }
      },
      "source": [
        "pd.read_sql_query(\"SELECT avg(price) from Products\", conn)"
      ],
      "execution_count": null,
      "outputs": [
        {
          "output_type": "execute_result",
          "data": {
            "text/html": [
              "<div>\n",
              "<style scoped>\n",
              "    .dataframe tbody tr th:only-of-type {\n",
              "        vertical-align: middle;\n",
              "    }\n",
              "\n",
              "    .dataframe tbody tr th {\n",
              "        vertical-align: top;\n",
              "    }\n",
              "\n",
              "    .dataframe thead th {\n",
              "        text-align: right;\n",
              "    }\n",
              "</style>\n",
              "<table border=\"1\" class=\"dataframe\">\n",
              "  <thead>\n",
              "    <tr style=\"text-align: right;\">\n",
              "      <th></th>\n",
              "      <th>avg(price)</th>\n",
              "    </tr>\n",
              "  </thead>\n",
              "  <tbody>\n",
              "    <tr>\n",
              "      <th>0</th>\n",
              "      <td>154.1</td>\n",
              "    </tr>\n",
              "  </tbody>\n",
              "</table>\n",
              "</div>"
            ],
            "text/plain": [
              "   avg(price)\n",
              "0       154.1"
            ]
          },
          "metadata": {
            "tags": []
          },
          "execution_count": 33
        }
      ]
    },
    {
      "cell_type": "code",
      "metadata": {
        "id": "lOqaMT7YWBAl",
        "outputId": "74b91863-91d5-4027-e9fa-c8c2c6f590aa",
        "colab": {
          "base_uri": "https://localhost:8080/"
        }
      },
      "source": [
        "pd.read_sql_query(\"SELECT avg(price) from Products where manufacturer = 2\", conn)"
      ],
      "execution_count": null,
      "outputs": [
        {
          "output_type": "execute_result",
          "data": {
            "text/html": [
              "<div>\n",
              "<style scoped>\n",
              "    .dataframe tbody tr th:only-of-type {\n",
              "        vertical-align: middle;\n",
              "    }\n",
              "\n",
              "    .dataframe tbody tr th {\n",
              "        vertical-align: top;\n",
              "    }\n",
              "\n",
              "    .dataframe thead th {\n",
              "        text-align: right;\n",
              "    }\n",
              "</style>\n",
              "<table border=\"1\" class=\"dataframe\">\n",
              "  <thead>\n",
              "    <tr style=\"text-align: right;\">\n",
              "      <th></th>\n",
              "      <th>avg(price)</th>\n",
              "    </tr>\n",
              "  </thead>\n",
              "  <tbody>\n",
              "    <tr>\n",
              "      <th>0</th>\n",
              "      <td>150.0</td>\n",
              "    </tr>\n",
              "  </tbody>\n",
              "</table>\n",
              "</div>"
            ],
            "text/plain": [
              "   avg(price)\n",
              "0       150.0"
            ]
          },
          "metadata": {
            "tags": []
          },
          "execution_count": 34
        }
      ]
    },
    {
      "cell_type": "code",
      "metadata": {
        "id": "BUdGMiKoWUeg",
        "outputId": "285085ef-6582-4542-9480-792f9231d62e",
        "colab": {
          "base_uri": "https://localhost:8080/"
        }
      },
      "source": [
        "pd.read_sql_query(\"SELECT count(*) from Products where price>= 180\", conn)"
      ],
      "execution_count": null,
      "outputs": [
        {
          "output_type": "execute_result",
          "data": {
            "text/html": [
              "<div>\n",
              "<style scoped>\n",
              "    .dataframe tbody tr th:only-of-type {\n",
              "        vertical-align: middle;\n",
              "    }\n",
              "\n",
              "    .dataframe tbody tr th {\n",
              "        vertical-align: top;\n",
              "    }\n",
              "\n",
              "    .dataframe thead th {\n",
              "        text-align: right;\n",
              "    }\n",
              "</style>\n",
              "<table border=\"1\" class=\"dataframe\">\n",
              "  <thead>\n",
              "    <tr style=\"text-align: right;\">\n",
              "      <th></th>\n",
              "      <th>count(*)</th>\n",
              "    </tr>\n",
              "  </thead>\n",
              "  <tbody>\n",
              "    <tr>\n",
              "      <th>0</th>\n",
              "      <td>5</td>\n",
              "    </tr>\n",
              "  </tbody>\n",
              "</table>\n",
              "</div>"
            ],
            "text/plain": [
              "   count(*)\n",
              "0         5"
            ]
          },
          "metadata": {
            "tags": []
          },
          "execution_count": 35
        }
      ]
    },
    {
      "cell_type": "code",
      "metadata": {
        "id": "NqfaiEP4WfTx",
        "outputId": "4e6f6039-d44e-4f36-fb84-1af8d1261f27",
        "colab": {
          "base_uri": "https://localhost:8080/"
        }
      },
      "source": [
        "pd.read_sql_query(\"SELECT name , price from Products where price >= 180 order by price DESC, name ASC\", conn)"
      ],
      "execution_count": null,
      "outputs": [
        {
          "output_type": "execute_result",
          "data": {
            "text/html": [
              "<div>\n",
              "<style scoped>\n",
              "    .dataframe tbody tr th:only-of-type {\n",
              "        vertical-align: middle;\n",
              "    }\n",
              "\n",
              "    .dataframe tbody tr th {\n",
              "        vertical-align: top;\n",
              "    }\n",
              "\n",
              "    .dataframe thead th {\n",
              "        text-align: right;\n",
              "    }\n",
              "</style>\n",
              "<table border=\"1\" class=\"dataframe\">\n",
              "  <thead>\n",
              "    <tr style=\"text-align: right;\">\n",
              "      <th></th>\n",
              "      <th>Name</th>\n",
              "      <th>Price</th>\n",
              "    </tr>\n",
              "  </thead>\n",
              "  <tbody>\n",
              "    <tr>\n",
              "      <th>0</th>\n",
              "      <td>Printer</td>\n",
              "      <td>270.0</td>\n",
              "    </tr>\n",
              "    <tr>\n",
              "      <th>1</th>\n",
              "      <td>Hard drive</td>\n",
              "      <td>240.0</td>\n",
              "    </tr>\n",
              "    <tr>\n",
              "      <th>2</th>\n",
              "      <td>Monitor</td>\n",
              "      <td>240.0</td>\n",
              "    </tr>\n",
              "    <tr>\n",
              "      <th>3</th>\n",
              "      <td>DVD burner</td>\n",
              "      <td>180.0</td>\n",
              "    </tr>\n",
              "    <tr>\n",
              "      <th>4</th>\n",
              "      <td>DVD drive</td>\n",
              "      <td>180.0</td>\n",
              "    </tr>\n",
              "  </tbody>\n",
              "</table>\n",
              "</div>"
            ],
            "text/plain": [
              "         Name  Price\n",
              "0     Printer  270.0\n",
              "1  Hard drive  240.0\n",
              "2     Monitor  240.0\n",
              "3  DVD burner  180.0\n",
              "4   DVD drive  180.0"
            ]
          },
          "metadata": {
            "tags": []
          },
          "execution_count": 36
        }
      ]
    },
    {
      "cell_type": "code",
      "metadata": {
        "id": "QG3OtLUzWwww",
        "outputId": "229a1c60-877f-4bdd-d38e-ad8dc26d4fc0",
        "colab": {
          "base_uri": "https://localhost:8080/"
        }
      },
      "source": [
        "pd.read_sql_query(\"SELECT p.code as product_code, p.name as product_name, p.price as product_price,p.Manufacturer as product_Manufacturer, m.code as Manufacturer_code, m.name as Manufacturer from Products p join manufacturers m on p.Manufacturer = m.code\", conn)"
      ],
      "execution_count": null,
      "outputs": [
        {
          "output_type": "execute_result",
          "data": {
            "text/html": [
              "<div>\n",
              "<style scoped>\n",
              "    .dataframe tbody tr th:only-of-type {\n",
              "        vertical-align: middle;\n",
              "    }\n",
              "\n",
              "    .dataframe tbody tr th {\n",
              "        vertical-align: top;\n",
              "    }\n",
              "\n",
              "    .dataframe thead th {\n",
              "        text-align: right;\n",
              "    }\n",
              "</style>\n",
              "<table border=\"1\" class=\"dataframe\">\n",
              "  <thead>\n",
              "    <tr style=\"text-align: right;\">\n",
              "      <th></th>\n",
              "      <th>product_code</th>\n",
              "      <th>product_name</th>\n",
              "      <th>product_price</th>\n",
              "      <th>product_Manufacturer</th>\n",
              "      <th>Manufacturer_code</th>\n",
              "      <th>Manufacturer</th>\n",
              "    </tr>\n",
              "  </thead>\n",
              "  <tbody>\n",
              "    <tr>\n",
              "      <th>0</th>\n",
              "      <td>1</td>\n",
              "      <td>Hard drive</td>\n",
              "      <td>240.0</td>\n",
              "      <td>5</td>\n",
              "      <td>5</td>\n",
              "      <td>Fujitsu</td>\n",
              "    </tr>\n",
              "    <tr>\n",
              "      <th>1</th>\n",
              "      <td>2</td>\n",
              "      <td>Memory</td>\n",
              "      <td>120.0</td>\n",
              "      <td>6</td>\n",
              "      <td>6</td>\n",
              "      <td>Winchester</td>\n",
              "    </tr>\n",
              "    <tr>\n",
              "      <th>2</th>\n",
              "      <td>3</td>\n",
              "      <td>ZIP drive</td>\n",
              "      <td>150.0</td>\n",
              "      <td>4</td>\n",
              "      <td>4</td>\n",
              "      <td>Iomega</td>\n",
              "    </tr>\n",
              "    <tr>\n",
              "      <th>3</th>\n",
              "      <td>4</td>\n",
              "      <td>Floppy disk</td>\n",
              "      <td>5.0</td>\n",
              "      <td>6</td>\n",
              "      <td>6</td>\n",
              "      <td>Winchester</td>\n",
              "    </tr>\n",
              "    <tr>\n",
              "      <th>4</th>\n",
              "      <td>5</td>\n",
              "      <td>Monitor</td>\n",
              "      <td>240.0</td>\n",
              "      <td>1</td>\n",
              "      <td>1</td>\n",
              "      <td>Sony</td>\n",
              "    </tr>\n",
              "    <tr>\n",
              "      <th>5</th>\n",
              "      <td>6</td>\n",
              "      <td>DVD drive</td>\n",
              "      <td>180.0</td>\n",
              "      <td>2</td>\n",
              "      <td>2</td>\n",
              "      <td>Creative Labs</td>\n",
              "    </tr>\n",
              "    <tr>\n",
              "      <th>6</th>\n",
              "      <td>7</td>\n",
              "      <td>CD drive</td>\n",
              "      <td>90.0</td>\n",
              "      <td>2</td>\n",
              "      <td>2</td>\n",
              "      <td>Creative Labs</td>\n",
              "    </tr>\n",
              "    <tr>\n",
              "      <th>7</th>\n",
              "      <td>8</td>\n",
              "      <td>Printer</td>\n",
              "      <td>270.0</td>\n",
              "      <td>3</td>\n",
              "      <td>3</td>\n",
              "      <td>Hewlett-Packard</td>\n",
              "    </tr>\n",
              "    <tr>\n",
              "      <th>8</th>\n",
              "      <td>9</td>\n",
              "      <td>Toner cartridge</td>\n",
              "      <td>66.0</td>\n",
              "      <td>3</td>\n",
              "      <td>3</td>\n",
              "      <td>Hewlett-Packard</td>\n",
              "    </tr>\n",
              "    <tr>\n",
              "      <th>9</th>\n",
              "      <td>10</td>\n",
              "      <td>DVD burner</td>\n",
              "      <td>180.0</td>\n",
              "      <td>2</td>\n",
              "      <td>2</td>\n",
              "      <td>Creative Labs</td>\n",
              "    </tr>\n",
              "  </tbody>\n",
              "</table>\n",
              "</div>"
            ],
            "text/plain": [
              "   product_code     product_name  ...  Manufacturer_code     Manufacturer\n",
              "0             1       Hard drive  ...                  5          Fujitsu\n",
              "1             2           Memory  ...                  6       Winchester\n",
              "2             3        ZIP drive  ...                  4           Iomega\n",
              "3             4      Floppy disk  ...                  6       Winchester\n",
              "4             5          Monitor  ...                  1             Sony\n",
              "5             6        DVD drive  ...                  2    Creative Labs\n",
              "6             7         CD drive  ...                  2    Creative Labs\n",
              "7             8          Printer  ...                  3  Hewlett-Packard\n",
              "8             9  Toner cartridge  ...                  3  Hewlett-Packard\n",
              "9            10       DVD burner  ...                  2    Creative Labs\n",
              "\n",
              "[10 rows x 6 columns]"
            ]
          },
          "metadata": {
            "tags": []
          },
          "execution_count": 41
        }
      ]
    },
    {
      "cell_type": "code",
      "metadata": {
        "id": "LFil0fFLY9Us",
        "outputId": "4fbd2ce5-ab21-46cf-eb0e-8574ce93ba4e",
        "colab": {
          "base_uri": "https://localhost:8080/"
        }
      },
      "source": [
        "pd.read_sql_query(\"SELECT  p.name as product_name, p.price as product_price, m.name as Manufacturer from Products p join manufacturers m on p.Manufacturer = m.code\", conn)"
      ],
      "execution_count": null,
      "outputs": [
        {
          "output_type": "execute_result",
          "data": {
            "text/html": [
              "<div>\n",
              "<style scoped>\n",
              "    .dataframe tbody tr th:only-of-type {\n",
              "        vertical-align: middle;\n",
              "    }\n",
              "\n",
              "    .dataframe tbody tr th {\n",
              "        vertical-align: top;\n",
              "    }\n",
              "\n",
              "    .dataframe thead th {\n",
              "        text-align: right;\n",
              "    }\n",
              "</style>\n",
              "<table border=\"1\" class=\"dataframe\">\n",
              "  <thead>\n",
              "    <tr style=\"text-align: right;\">\n",
              "      <th></th>\n",
              "      <th>product_name</th>\n",
              "      <th>product_price</th>\n",
              "      <th>Manufacturer</th>\n",
              "    </tr>\n",
              "  </thead>\n",
              "  <tbody>\n",
              "    <tr>\n",
              "      <th>0</th>\n",
              "      <td>Hard drive</td>\n",
              "      <td>240.0</td>\n",
              "      <td>Fujitsu</td>\n",
              "    </tr>\n",
              "    <tr>\n",
              "      <th>1</th>\n",
              "      <td>Memory</td>\n",
              "      <td>120.0</td>\n",
              "      <td>Winchester</td>\n",
              "    </tr>\n",
              "    <tr>\n",
              "      <th>2</th>\n",
              "      <td>ZIP drive</td>\n",
              "      <td>150.0</td>\n",
              "      <td>Iomega</td>\n",
              "    </tr>\n",
              "    <tr>\n",
              "      <th>3</th>\n",
              "      <td>Floppy disk</td>\n",
              "      <td>5.0</td>\n",
              "      <td>Winchester</td>\n",
              "    </tr>\n",
              "    <tr>\n",
              "      <th>4</th>\n",
              "      <td>Monitor</td>\n",
              "      <td>240.0</td>\n",
              "      <td>Sony</td>\n",
              "    </tr>\n",
              "    <tr>\n",
              "      <th>5</th>\n",
              "      <td>DVD drive</td>\n",
              "      <td>180.0</td>\n",
              "      <td>Creative Labs</td>\n",
              "    </tr>\n",
              "    <tr>\n",
              "      <th>6</th>\n",
              "      <td>CD drive</td>\n",
              "      <td>90.0</td>\n",
              "      <td>Creative Labs</td>\n",
              "    </tr>\n",
              "    <tr>\n",
              "      <th>7</th>\n",
              "      <td>Printer</td>\n",
              "      <td>270.0</td>\n",
              "      <td>Hewlett-Packard</td>\n",
              "    </tr>\n",
              "    <tr>\n",
              "      <th>8</th>\n",
              "      <td>Toner cartridge</td>\n",
              "      <td>66.0</td>\n",
              "      <td>Hewlett-Packard</td>\n",
              "    </tr>\n",
              "    <tr>\n",
              "      <th>9</th>\n",
              "      <td>DVD burner</td>\n",
              "      <td>180.0</td>\n",
              "      <td>Creative Labs</td>\n",
              "    </tr>\n",
              "  </tbody>\n",
              "</table>\n",
              "</div>"
            ],
            "text/plain": [
              "      product_name  product_price     Manufacturer\n",
              "0       Hard drive          240.0          Fujitsu\n",
              "1           Memory          120.0       Winchester\n",
              "2        ZIP drive          150.0           Iomega\n",
              "3      Floppy disk            5.0       Winchester\n",
              "4          Monitor          240.0             Sony\n",
              "5        DVD drive          180.0    Creative Labs\n",
              "6         CD drive           90.0    Creative Labs\n",
              "7          Printer          270.0  Hewlett-Packard\n",
              "8  Toner cartridge           66.0  Hewlett-Packard\n",
              "9       DVD burner          180.0    Creative Labs"
            ]
          },
          "metadata": {
            "tags": []
          },
          "execution_count": 43
        }
      ]
    },
    {
      "cell_type": "code",
      "metadata": {
        "id": "dFX8cQoPZTWC",
        "outputId": "b165afc2-acf2-4c24-cd29-639f2528a908",
        "colab": {
          "base_uri": "https://localhost:8080/"
        }
      },
      "source": [
        "pd.read_sql_query(\"SELECT avg(p.price), m.code as Manufacturer_code from Products p join manufacturers m on p.Manufacturer = m.code group by m.code\", conn)"
      ],
      "execution_count": null,
      "outputs": [
        {
          "output_type": "execute_result",
          "data": {
            "text/html": [
              "<div>\n",
              "<style scoped>\n",
              "    .dataframe tbody tr th:only-of-type {\n",
              "        vertical-align: middle;\n",
              "    }\n",
              "\n",
              "    .dataframe tbody tr th {\n",
              "        vertical-align: top;\n",
              "    }\n",
              "\n",
              "    .dataframe thead th {\n",
              "        text-align: right;\n",
              "    }\n",
              "</style>\n",
              "<table border=\"1\" class=\"dataframe\">\n",
              "  <thead>\n",
              "    <tr style=\"text-align: right;\">\n",
              "      <th></th>\n",
              "      <th>avg(p.price)</th>\n",
              "      <th>Manufacturer_code</th>\n",
              "    </tr>\n",
              "  </thead>\n",
              "  <tbody>\n",
              "    <tr>\n",
              "      <th>0</th>\n",
              "      <td>240.0</td>\n",
              "      <td>1</td>\n",
              "    </tr>\n",
              "    <tr>\n",
              "      <th>1</th>\n",
              "      <td>150.0</td>\n",
              "      <td>2</td>\n",
              "    </tr>\n",
              "    <tr>\n",
              "      <th>2</th>\n",
              "      <td>168.0</td>\n",
              "      <td>3</td>\n",
              "    </tr>\n",
              "    <tr>\n",
              "      <th>3</th>\n",
              "      <td>150.0</td>\n",
              "      <td>4</td>\n",
              "    </tr>\n",
              "    <tr>\n",
              "      <th>4</th>\n",
              "      <td>240.0</td>\n",
              "      <td>5</td>\n",
              "    </tr>\n",
              "    <tr>\n",
              "      <th>5</th>\n",
              "      <td>62.5</td>\n",
              "      <td>6</td>\n",
              "    </tr>\n",
              "  </tbody>\n",
              "</table>\n",
              "</div>"
            ],
            "text/plain": [
              "   avg(p.price)  Manufacturer_code\n",
              "0         240.0                  1\n",
              "1         150.0                  2\n",
              "2         168.0                  3\n",
              "3         150.0                  4\n",
              "4         240.0                  5\n",
              "5          62.5                  6"
            ]
          },
          "metadata": {
            "tags": []
          },
          "execution_count": 45
        }
      ]
    },
    {
      "cell_type": "code",
      "metadata": {
        "id": "5xtZyWkPZ1gK",
        "outputId": "1d571286-1253-4e3d-e8c8-9fecaa7ad174",
        "colab": {
          "base_uri": "https://localhost:8080/"
        }
      },
      "source": [
        "pd.read_sql_query(\"SELECT avg(p.price), m.name as Manufacturer_name from Products p join manufacturers m on p.Manufacturer = m.code group by m.name\", conn)"
      ],
      "execution_count": null,
      "outputs": [
        {
          "output_type": "execute_result",
          "data": {
            "text/html": [
              "<div>\n",
              "<style scoped>\n",
              "    .dataframe tbody tr th:only-of-type {\n",
              "        vertical-align: middle;\n",
              "    }\n",
              "\n",
              "    .dataframe tbody tr th {\n",
              "        vertical-align: top;\n",
              "    }\n",
              "\n",
              "    .dataframe thead th {\n",
              "        text-align: right;\n",
              "    }\n",
              "</style>\n",
              "<table border=\"1\" class=\"dataframe\">\n",
              "  <thead>\n",
              "    <tr style=\"text-align: right;\">\n",
              "      <th></th>\n",
              "      <th>avg(p.price)</th>\n",
              "      <th>Manufacturer_name</th>\n",
              "    </tr>\n",
              "  </thead>\n",
              "  <tbody>\n",
              "    <tr>\n",
              "      <th>0</th>\n",
              "      <td>150.0</td>\n",
              "      <td>Creative Labs</td>\n",
              "    </tr>\n",
              "    <tr>\n",
              "      <th>1</th>\n",
              "      <td>240.0</td>\n",
              "      <td>Fujitsu</td>\n",
              "    </tr>\n",
              "    <tr>\n",
              "      <th>2</th>\n",
              "      <td>168.0</td>\n",
              "      <td>Hewlett-Packard</td>\n",
              "    </tr>\n",
              "    <tr>\n",
              "      <th>3</th>\n",
              "      <td>150.0</td>\n",
              "      <td>Iomega</td>\n",
              "    </tr>\n",
              "    <tr>\n",
              "      <th>4</th>\n",
              "      <td>240.0</td>\n",
              "      <td>Sony</td>\n",
              "    </tr>\n",
              "    <tr>\n",
              "      <th>5</th>\n",
              "      <td>62.5</td>\n",
              "      <td>Winchester</td>\n",
              "    </tr>\n",
              "  </tbody>\n",
              "</table>\n",
              "</div>"
            ],
            "text/plain": [
              "   avg(p.price) Manufacturer_name\n",
              "0         150.0     Creative Labs\n",
              "1         240.0           Fujitsu\n",
              "2         168.0   Hewlett-Packard\n",
              "3         150.0            Iomega\n",
              "4         240.0              Sony\n",
              "5          62.5        Winchester"
            ]
          },
          "metadata": {
            "tags": []
          },
          "execution_count": 46
        }
      ]
    },
    {
      "cell_type": "code",
      "metadata": {
        "id": "Br71ZhUWZ7xD",
        "outputId": "d3f70f8f-c386-4edc-a838-3d24788462d2",
        "colab": {
          "base_uri": "https://localhost:8080/"
        }
      },
      "source": [
        "pd.read_sql_query(\"SELECT m.name as Manufacturer_name from Products p join manufacturers m on p.Manufacturer = m.code group by m.name having avg(price) >=  150\", conn)"
      ],
      "execution_count": null,
      "outputs": [
        {
          "output_type": "execute_result",
          "data": {
            "text/html": [
              "<div>\n",
              "<style scoped>\n",
              "    .dataframe tbody tr th:only-of-type {\n",
              "        vertical-align: middle;\n",
              "    }\n",
              "\n",
              "    .dataframe tbody tr th {\n",
              "        vertical-align: top;\n",
              "    }\n",
              "\n",
              "    .dataframe thead th {\n",
              "        text-align: right;\n",
              "    }\n",
              "</style>\n",
              "<table border=\"1\" class=\"dataframe\">\n",
              "  <thead>\n",
              "    <tr style=\"text-align: right;\">\n",
              "      <th></th>\n",
              "      <th>Manufacturer_name</th>\n",
              "    </tr>\n",
              "  </thead>\n",
              "  <tbody>\n",
              "    <tr>\n",
              "      <th>0</th>\n",
              "      <td>Creative Labs</td>\n",
              "    </tr>\n",
              "    <tr>\n",
              "      <th>1</th>\n",
              "      <td>Fujitsu</td>\n",
              "    </tr>\n",
              "    <tr>\n",
              "      <th>2</th>\n",
              "      <td>Hewlett-Packard</td>\n",
              "    </tr>\n",
              "    <tr>\n",
              "      <th>3</th>\n",
              "      <td>Iomega</td>\n",
              "    </tr>\n",
              "    <tr>\n",
              "      <th>4</th>\n",
              "      <td>Sony</td>\n",
              "    </tr>\n",
              "  </tbody>\n",
              "</table>\n",
              "</div>"
            ],
            "text/plain": [
              "  Manufacturer_name\n",
              "0     Creative Labs\n",
              "1           Fujitsu\n",
              "2   Hewlett-Packard\n",
              "3            Iomega\n",
              "4              Sony"
            ]
          },
          "metadata": {
            "tags": []
          },
          "execution_count": 47
        }
      ]
    },
    {
      "cell_type": "code",
      "metadata": {
        "id": "OCUztaK_aIXS",
        "outputId": "5d00178c-a5ba-4306-f745-045f7a88873c",
        "colab": {
          "base_uri": "https://localhost:8080/"
        }
      },
      "source": [
        "pd.read_sql_query(\"SELECT name , price from Products order by price ASC limit 1\", conn)"
      ],
      "execution_count": null,
      "outputs": [
        {
          "output_type": "execute_result",
          "data": {
            "text/html": [
              "<div>\n",
              "<style scoped>\n",
              "    .dataframe tbody tr th:only-of-type {\n",
              "        vertical-align: middle;\n",
              "    }\n",
              "\n",
              "    .dataframe tbody tr th {\n",
              "        vertical-align: top;\n",
              "    }\n",
              "\n",
              "    .dataframe thead th {\n",
              "        text-align: right;\n",
              "    }\n",
              "</style>\n",
              "<table border=\"1\" class=\"dataframe\">\n",
              "  <thead>\n",
              "    <tr style=\"text-align: right;\">\n",
              "      <th></th>\n",
              "      <th>Name</th>\n",
              "      <th>Price</th>\n",
              "    </tr>\n",
              "  </thead>\n",
              "  <tbody>\n",
              "    <tr>\n",
              "      <th>0</th>\n",
              "      <td>Floppy disk</td>\n",
              "      <td>5.0</td>\n",
              "    </tr>\n",
              "  </tbody>\n",
              "</table>\n",
              "</div>"
            ],
            "text/plain": [
              "          Name  Price\n",
              "0  Floppy disk    5.0"
            ]
          },
          "metadata": {
            "tags": []
          },
          "execution_count": 54
        }
      ]
    },
    {
      "cell_type": "code",
      "metadata": {
        "id": "YY0AphLma7H3",
        "outputId": "f646619c-7ad1-4e60-b7bf-488b874142e2",
        "colab": {
          "base_uri": "https://localhost:8080/"
        }
      },
      "source": [
        "pd.read_sql_query(\"SELECT m.name as manu_name, p.name as product_name,p.price from Products p join manufacturers m on p.Manufacturer = m.code group by m.name having p.price = max(p.price)\", conn)"
      ],
      "execution_count": null,
      "outputs": [
        {
          "output_type": "execute_result",
          "data": {
            "text/html": [
              "<div>\n",
              "<style scoped>\n",
              "    .dataframe tbody tr th:only-of-type {\n",
              "        vertical-align: middle;\n",
              "    }\n",
              "\n",
              "    .dataframe tbody tr th {\n",
              "        vertical-align: top;\n",
              "    }\n",
              "\n",
              "    .dataframe thead th {\n",
              "        text-align: right;\n",
              "    }\n",
              "</style>\n",
              "<table border=\"1\" class=\"dataframe\">\n",
              "  <thead>\n",
              "    <tr style=\"text-align: right;\">\n",
              "      <th></th>\n",
              "      <th>manu_name</th>\n",
              "      <th>product_name</th>\n",
              "      <th>Price</th>\n",
              "    </tr>\n",
              "  </thead>\n",
              "  <tbody>\n",
              "    <tr>\n",
              "      <th>0</th>\n",
              "      <td>Creative Labs</td>\n",
              "      <td>DVD drive</td>\n",
              "      <td>180.0</td>\n",
              "    </tr>\n",
              "    <tr>\n",
              "      <th>1</th>\n",
              "      <td>Fujitsu</td>\n",
              "      <td>Hard drive</td>\n",
              "      <td>240.0</td>\n",
              "    </tr>\n",
              "    <tr>\n",
              "      <th>2</th>\n",
              "      <td>Hewlett-Packard</td>\n",
              "      <td>Printer</td>\n",
              "      <td>270.0</td>\n",
              "    </tr>\n",
              "    <tr>\n",
              "      <th>3</th>\n",
              "      <td>Iomega</td>\n",
              "      <td>ZIP drive</td>\n",
              "      <td>150.0</td>\n",
              "    </tr>\n",
              "    <tr>\n",
              "      <th>4</th>\n",
              "      <td>Sony</td>\n",
              "      <td>Monitor</td>\n",
              "      <td>240.0</td>\n",
              "    </tr>\n",
              "    <tr>\n",
              "      <th>5</th>\n",
              "      <td>Winchester</td>\n",
              "      <td>Memory</td>\n",
              "      <td>120.0</td>\n",
              "    </tr>\n",
              "  </tbody>\n",
              "</table>\n",
              "</div>"
            ],
            "text/plain": [
              "         manu_name product_name  Price\n",
              "0    Creative Labs    DVD drive  180.0\n",
              "1          Fujitsu   Hard drive  240.0\n",
              "2  Hewlett-Packard      Printer  270.0\n",
              "3           Iomega    ZIP drive  150.0\n",
              "4             Sony      Monitor  240.0\n",
              "5       Winchester       Memory  120.0"
            ]
          },
          "metadata": {
            "tags": []
          },
          "execution_count": 52
        }
      ]
    },
    {
      "cell_type": "code",
      "metadata": {
        "id": "0P3s-RQVbxSh",
        "outputId": "2ecf52c8-68f1-4079-be8a-1874fc9d995a",
        "colab": {
          "base_uri": "https://localhost:8080/"
        }
      },
      "source": [
        "conn.execute(\"INSERT INTO Products(Code,Name,Price,Manufacturer) VALUES(11,'Loudspeakers',70,2);\")"
      ],
      "execution_count": null,
      "outputs": [
        {
          "output_type": "execute_result",
          "data": {
            "text/plain": [
              "<sqlite3.Cursor at 0x7f0a2a86fc70>"
            ]
          },
          "metadata": {
            "tags": []
          },
          "execution_count": 61
        }
      ]
    },
    {
      "cell_type": "code",
      "metadata": {
        "id": "d_i_nACDcPUf",
        "outputId": "f0a22eeb-1b12-47dd-837e-520af6551123",
        "colab": {
          "base_uri": "https://localhost:8080/"
        }
      },
      "source": [
        "conn.execute(\"update products set name = 'Laser Printer' where code = 8\")"
      ],
      "execution_count": null,
      "outputs": [
        {
          "output_type": "execute_result",
          "data": {
            "text/plain": [
              "<sqlite3.Cursor at 0x7f0a2a86ff10>"
            ]
          },
          "metadata": {
            "tags": []
          },
          "execution_count": 60
        }
      ]
    },
    {
      "cell_type": "code",
      "metadata": {
        "id": "-6wtLUREcfmn",
        "outputId": "1ed6308b-b0c1-4ff3-a1d7-89e1097758c4",
        "colab": {
          "base_uri": "https://localhost:8080/"
        }
      },
      "source": [
        "pd.read_sql_query(\"select name,code, price*90/100, manufacturer from products\", conn)"
      ],
      "execution_count": null,
      "outputs": [
        {
          "output_type": "execute_result",
          "data": {
            "text/html": [
              "<div>\n",
              "<style scoped>\n",
              "    .dataframe tbody tr th:only-of-type {\n",
              "        vertical-align: middle;\n",
              "    }\n",
              "\n",
              "    .dataframe tbody tr th {\n",
              "        vertical-align: top;\n",
              "    }\n",
              "\n",
              "    .dataframe thead th {\n",
              "        text-align: right;\n",
              "    }\n",
              "</style>\n",
              "<table border=\"1\" class=\"dataframe\">\n",
              "  <thead>\n",
              "    <tr style=\"text-align: right;\">\n",
              "      <th></th>\n",
              "      <th>Name</th>\n",
              "      <th>Code</th>\n",
              "      <th>price*90/100</th>\n",
              "      <th>Manufacturer</th>\n",
              "    </tr>\n",
              "  </thead>\n",
              "  <tbody>\n",
              "    <tr>\n",
              "      <th>0</th>\n",
              "      <td>Hard drive</td>\n",
              "      <td>1</td>\n",
              "      <td>216.0</td>\n",
              "      <td>5</td>\n",
              "    </tr>\n",
              "    <tr>\n",
              "      <th>1</th>\n",
              "      <td>Memory</td>\n",
              "      <td>2</td>\n",
              "      <td>108.0</td>\n",
              "      <td>6</td>\n",
              "    </tr>\n",
              "    <tr>\n",
              "      <th>2</th>\n",
              "      <td>ZIP drive</td>\n",
              "      <td>3</td>\n",
              "      <td>135.0</td>\n",
              "      <td>4</td>\n",
              "    </tr>\n",
              "    <tr>\n",
              "      <th>3</th>\n",
              "      <td>Floppy disk</td>\n",
              "      <td>4</td>\n",
              "      <td>4.5</td>\n",
              "      <td>6</td>\n",
              "    </tr>\n",
              "    <tr>\n",
              "      <th>4</th>\n",
              "      <td>Monitor</td>\n",
              "      <td>5</td>\n",
              "      <td>216.0</td>\n",
              "      <td>1</td>\n",
              "    </tr>\n",
              "    <tr>\n",
              "      <th>5</th>\n",
              "      <td>DVD drive</td>\n",
              "      <td>6</td>\n",
              "      <td>162.0</td>\n",
              "      <td>2</td>\n",
              "    </tr>\n",
              "    <tr>\n",
              "      <th>6</th>\n",
              "      <td>CD drive</td>\n",
              "      <td>7</td>\n",
              "      <td>81.0</td>\n",
              "      <td>2</td>\n",
              "    </tr>\n",
              "    <tr>\n",
              "      <th>7</th>\n",
              "      <td>Laser Printer</td>\n",
              "      <td>8</td>\n",
              "      <td>243.0</td>\n",
              "      <td>3</td>\n",
              "    </tr>\n",
              "    <tr>\n",
              "      <th>8</th>\n",
              "      <td>Toner cartridge</td>\n",
              "      <td>9</td>\n",
              "      <td>59.4</td>\n",
              "      <td>3</td>\n",
              "    </tr>\n",
              "    <tr>\n",
              "      <th>9</th>\n",
              "      <td>DVD burner</td>\n",
              "      <td>10</td>\n",
              "      <td>162.0</td>\n",
              "      <td>2</td>\n",
              "    </tr>\n",
              "    <tr>\n",
              "      <th>10</th>\n",
              "      <td>Loudspeakers</td>\n",
              "      <td>11</td>\n",
              "      <td>63.0</td>\n",
              "      <td>2</td>\n",
              "    </tr>\n",
              "  </tbody>\n",
              "</table>\n",
              "</div>"
            ],
            "text/plain": [
              "               Name  Code  price*90/100  Manufacturer\n",
              "0        Hard drive     1         216.0             5\n",
              "1            Memory     2         108.0             6\n",
              "2         ZIP drive     3         135.0             4\n",
              "3       Floppy disk     4           4.5             6\n",
              "4           Monitor     5         216.0             1\n",
              "5         DVD drive     6         162.0             2\n",
              "6          CD drive     7          81.0             2\n",
              "7     Laser Printer     8         243.0             3\n",
              "8   Toner cartridge     9          59.4             3\n",
              "9        DVD burner    10         162.0             2\n",
              "10     Loudspeakers    11          63.0             2"
            ]
          },
          "metadata": {
            "tags": []
          },
          "execution_count": 62
        }
      ]
    },
    {
      "cell_type": "code",
      "metadata": {
        "id": "clHmljQGdqto",
        "outputId": "a8ffed11-cb30-4d76-e938-73a67772d1e0",
        "colab": {
          "base_uri": "https://localhost:8080/"
        }
      },
      "source": [
        "pd.read_sql_query(\"select name,code, price*90/100, manufacturer from products where price>= 120\", conn)"
      ],
      "execution_count": null,
      "outputs": [
        {
          "output_type": "execute_result",
          "data": {
            "text/html": [
              "<div>\n",
              "<style scoped>\n",
              "    .dataframe tbody tr th:only-of-type {\n",
              "        vertical-align: middle;\n",
              "    }\n",
              "\n",
              "    .dataframe tbody tr th {\n",
              "        vertical-align: top;\n",
              "    }\n",
              "\n",
              "    .dataframe thead th {\n",
              "        text-align: right;\n",
              "    }\n",
              "</style>\n",
              "<table border=\"1\" class=\"dataframe\">\n",
              "  <thead>\n",
              "    <tr style=\"text-align: right;\">\n",
              "      <th></th>\n",
              "      <th>Name</th>\n",
              "      <th>Code</th>\n",
              "      <th>price*90/100</th>\n",
              "      <th>Manufacturer</th>\n",
              "    </tr>\n",
              "  </thead>\n",
              "  <tbody>\n",
              "    <tr>\n",
              "      <th>0</th>\n",
              "      <td>Hard drive</td>\n",
              "      <td>1</td>\n",
              "      <td>216.0</td>\n",
              "      <td>5</td>\n",
              "    </tr>\n",
              "    <tr>\n",
              "      <th>1</th>\n",
              "      <td>Memory</td>\n",
              "      <td>2</td>\n",
              "      <td>108.0</td>\n",
              "      <td>6</td>\n",
              "    </tr>\n",
              "    <tr>\n",
              "      <th>2</th>\n",
              "      <td>ZIP drive</td>\n",
              "      <td>3</td>\n",
              "      <td>135.0</td>\n",
              "      <td>4</td>\n",
              "    </tr>\n",
              "    <tr>\n",
              "      <th>3</th>\n",
              "      <td>Monitor</td>\n",
              "      <td>5</td>\n",
              "      <td>216.0</td>\n",
              "      <td>1</td>\n",
              "    </tr>\n",
              "    <tr>\n",
              "      <th>4</th>\n",
              "      <td>DVD drive</td>\n",
              "      <td>6</td>\n",
              "      <td>162.0</td>\n",
              "      <td>2</td>\n",
              "    </tr>\n",
              "    <tr>\n",
              "      <th>5</th>\n",
              "      <td>Laser Printer</td>\n",
              "      <td>8</td>\n",
              "      <td>243.0</td>\n",
              "      <td>3</td>\n",
              "    </tr>\n",
              "    <tr>\n",
              "      <th>6</th>\n",
              "      <td>DVD burner</td>\n",
              "      <td>10</td>\n",
              "      <td>162.0</td>\n",
              "      <td>2</td>\n",
              "    </tr>\n",
              "  </tbody>\n",
              "</table>\n",
              "</div>"
            ],
            "text/plain": [
              "            Name  Code  price*90/100  Manufacturer\n",
              "0     Hard drive     1         216.0             5\n",
              "1         Memory     2         108.0             6\n",
              "2      ZIP drive     3         135.0             4\n",
              "3        Monitor     5         216.0             1\n",
              "4      DVD drive     6         162.0             2\n",
              "5  Laser Printer     8         243.0             3\n",
              "6     DVD burner    10         162.0             2"
            ]
          },
          "metadata": {
            "tags": []
          },
          "execution_count": 64
        }
      ]
    }
  ]
}